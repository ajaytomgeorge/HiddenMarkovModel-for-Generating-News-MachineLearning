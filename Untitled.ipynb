{
 "cells": [
  {
   "cell_type": "code",
   "execution_count": 1,
   "id": "59be5113-4e42-4430-a49b-fbf0d5fddccb",
   "metadata": {},
   "outputs": [],
   "source": [
    "import pandas as pd\n",
    "import os"
   ]
  },
  {
   "cell_type": "code",
   "execution_count": 2,
   "id": "fd6146fd-4732-4289-8360-abddb8190700",
   "metadata": {},
   "outputs": [],
   "source": [
    "\n",
    "directory = os.fsencode(\"data\")\n",
    "    \n"
   ]
  },
  {
   "cell_type": "code",
   "execution_count": 5,
   "id": "48d7c250-a6a4-4a74-b06d-7afc286d32ac",
   "metadata": {},
   "outputs": [],
   "source": [
    "for file in os.listdir(directory):\n",
    "    filename = os.fsdecode(file)\n",
    "    df = open(filename, \"r\")\n",
    "    lines = df.readlines()\n",
    "    for index, line in enumerate(lines):\n",
    "      lines[index] = line.strip()\n",
    "    df.close()\n",
    "\n",
    "# remove /n at the end of each line\n",
    "for index, line in enumerate(lines):\n",
    "      lines[index] = line.strip()\n"
   ]
  },
  {
   "cell_type": "code",
   "execution_count": null,
   "id": "59f4de17-8cb0-4f6a-930e-75c8dc827436",
   "metadata": {},
   "outputs": [],
   "source": []
  }
 ],
 "metadata": {
  "kernelspec": {
   "display_name": "Python 3",
   "language": "python",
   "name": "python3"
  },
  "language_info": {
   "codemirror_mode": {
    "name": "ipython",
    "version": 3
   },
   "file_extension": ".py",
   "mimetype": "text/x-python",
   "name": "python",
   "nbconvert_exporter": "python",
   "pygments_lexer": "ipython3",
   "version": "3.7.9"
  }
 },
 "nbformat": 4,
 "nbformat_minor": 5
}
